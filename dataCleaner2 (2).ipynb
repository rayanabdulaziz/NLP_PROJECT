{
 "cells": [
  {
   "cell_type": "code",
   "execution_count": 1,
   "id": "377d4945",
   "metadata": {},
   "outputs": [],
   "source": [
    "import pandas as pd\n",
    "# Importing Libraries\n",
    "import re\n",
    "import datetime\n"
   ]
  },
  {
   "cell_type": "code",
   "execution_count": 2,
   "id": "473b7c46",
   "metadata": {},
   "outputs": [],
   "source": [
    "import warnings\n",
    "warnings.filterwarnings(\"ignore\", category=DeprecationWarning)\n",
    "warnings.filterwarnings(\"ignore\", category=FutureWarning)\n"
   ]
  },
  {
   "cell_type": "markdown",
   "id": "c3494b5d",
   "metadata": {},
   "source": [
    "## load data"
   ]
  },
  {
   "cell_type": "code",
   "execution_count": 3,
   "id": "ba9d1494",
   "metadata": {},
   "outputs": [],
   "source": [
    "df=pd.read_csv(\"cleaned_tweets_season1.csv\")"
   ]
  },
  {
   "cell_type": "code",
   "execution_count": 4,
   "id": "e357fa60",
   "metadata": {},
   "outputs": [
    {
     "name": "stdout",
     "output_type": "stream",
     "text": [
      "<class 'pandas.core.frame.DataFrame'>\n",
      "RangeIndex: 1998 entries, 0 to 1997\n",
      "Data columns (total 4 columns):\n",
      " #   Column        Non-Null Count  Dtype \n",
      "---  ------        --------------  ----- \n",
      " 0   التغريدة      1997 non-null   object\n",
      " 1   اسم_المستخدم  1998 non-null   object\n",
      " 2   الموقع        1998 non-null   object\n",
      " 3   التاريخ       1998 non-null   object\n",
      "dtypes: object(4)\n",
      "memory usage: 62.6+ KB\n"
     ]
    }
   ],
   "source": [
    "df.info()"
   ]
  },
  {
   "cell_type": "code",
   "execution_count": 5,
   "id": "5720d9a6",
   "metadata": {},
   "outputs": [
    {
     "data": {
      "text/html": [
       "<div>\n",
       "<style scoped>\n",
       "    .dataframe tbody tr th:only-of-type {\n",
       "        vertical-align: middle;\n",
       "    }\n",
       "\n",
       "    .dataframe tbody tr th {\n",
       "        vertical-align: top;\n",
       "    }\n",
       "\n",
       "    .dataframe thead th {\n",
       "        text-align: right;\n",
       "    }\n",
       "</style>\n",
       "<table border=\"1\" class=\"dataframe\">\n",
       "  <thead>\n",
       "    <tr style=\"text-align: right;\">\n",
       "      <th></th>\n",
       "      <th>التغريدة</th>\n",
       "      <th>اسم_المستخدم</th>\n",
       "      <th>الموقع</th>\n",
       "      <th>التاريخ</th>\n",
       "    </tr>\n",
       "  </thead>\n",
       "  <tbody>\n",
       "    <tr>\n",
       "      <th>0</th>\n",
       "      <td>جميل جدا  و بالأخص البلوليفارد  موسم الرياض</td>\n",
       "      <td>Alazme16</td>\n",
       "      <td>المملكة العربية السعودية</td>\n",
       "      <td>12/6/2021</td>\n",
       "    </tr>\n",
       "    <tr>\n",
       "      <th>1</th>\n",
       "      <td>موسم جبار ورهيب موسم الرياض</td>\n",
       "      <td>ashaq7</td>\n",
       "      <td>البحرين</td>\n",
       "      <td>2021-12-21</td>\n",
       "    </tr>\n",
       "    <tr>\n",
       "      <th>2</th>\n",
       "      <td>@GEA_SA @RiyadhSeason A موسم_الرياض    والله ...</td>\n",
       "      <td>ashaq7</td>\n",
       "      <td>البحرين</td>\n",
       "      <td>2021-12-21</td>\n",
       "    </tr>\n",
       "    <tr>\n",
       "      <th>3</th>\n",
       "      <td>ليست مثاليا ولكني اطمح ان اعيش في مجتمع مثالي ...</td>\n",
       "      <td>bba10101010</td>\n",
       "      <td>المملكة العربية السعودية</td>\n",
       "      <td>12/6/2021</td>\n",
       "    </tr>\n",
       "    <tr>\n",
       "      <th>4</th>\n",
       "      <td>موسم رائع كبيره يالسعودية من كثر الفعاليات تحت...</td>\n",
       "      <td>fofo94001</td>\n",
       "      <td>المملكة العربية السعودية</td>\n",
       "      <td>2021-12-21</td>\n",
       "    </tr>\n",
       "  </tbody>\n",
       "</table>\n",
       "</div>"
      ],
      "text/plain": [
       "                                            التغريدة اسم_المستخدم  \\\n",
       "0        جميل جدا  و بالأخص البلوليفارد  موسم الرياض     Alazme16   \n",
       "1                        موسم جبار ورهيب موسم الرياض       ashaq7   \n",
       "2   @GEA_SA @RiyadhSeason A موسم_الرياض    والله ...       ashaq7   \n",
       "3  ليست مثاليا ولكني اطمح ان اعيش في مجتمع مثالي ...  bba10101010   \n",
       "4  موسم رائع كبيره يالسعودية من كثر الفعاليات تحت...    fofo94001   \n",
       "\n",
       "                     الموقع     التاريخ  \n",
       "0  المملكة العربية السعودية   12/6/2021  \n",
       "1                   البحرين  2021-12-21  \n",
       "2                   البحرين  2021-12-21  \n",
       "3  المملكة العربية السعودية   12/6/2021  \n",
       "4  المملكة العربية السعودية  2021-12-21  "
      ]
     },
     "execution_count": 5,
     "metadata": {},
     "output_type": "execute_result"
    }
   ],
   "source": [
    "df.head()"
   ]
  },
  {
   "cell_type": "code",
   "execution_count": null,
   "id": "e1f079ce",
   "metadata": {},
   "outputs": [],
   "source": []
  },
  {
   "cell_type": "code",
   "execution_count": 6,
   "id": "38ca7438",
   "metadata": {},
   "outputs": [
    {
     "data": {
      "text/html": [
       "<div>\n",
       "<style scoped>\n",
       "    .dataframe tbody tr th:only-of-type {\n",
       "        vertical-align: middle;\n",
       "    }\n",
       "\n",
       "    .dataframe tbody tr th {\n",
       "        vertical-align: top;\n",
       "    }\n",
       "\n",
       "    .dataframe thead th {\n",
       "        text-align: right;\n",
       "    }\n",
       "</style>\n",
       "<table border=\"1\" class=\"dataframe\">\n",
       "  <thead>\n",
       "    <tr style=\"text-align: right;\">\n",
       "      <th></th>\n",
       "      <th>التغريدة</th>\n",
       "      <th>اسم_المستخدم</th>\n",
       "      <th>الموقع</th>\n",
       "      <th>التاريخ</th>\n",
       "    </tr>\n",
       "  </thead>\n",
       "  <tbody>\n",
       "    <tr>\n",
       "      <th>count</th>\n",
       "      <td>1997</td>\n",
       "      <td>1998</td>\n",
       "      <td>1998</td>\n",
       "      <td>1998</td>\n",
       "    </tr>\n",
       "    <tr>\n",
       "      <th>unique</th>\n",
       "      <td>1958</td>\n",
       "      <td>1535</td>\n",
       "      <td>12</td>\n",
       "      <td>8</td>\n",
       "    </tr>\n",
       "    <tr>\n",
       "      <th>top</th>\n",
       "      <td>@flyadeal منطقه خلوها بقريه زمان\\n \\n #طيران_أ...</td>\n",
       "      <td>RiyadhSeason</td>\n",
       "      <td>المملكة العربية السعودية</td>\n",
       "      <td>2021-12-21</td>\n",
       "    </tr>\n",
       "    <tr>\n",
       "      <th>freq</th>\n",
       "      <td>11</td>\n",
       "      <td>30</td>\n",
       "      <td>1666</td>\n",
       "      <td>1932</td>\n",
       "    </tr>\n",
       "  </tbody>\n",
       "</table>\n",
       "</div>"
      ],
      "text/plain": [
       "                                                 التغريدة  اسم_المستخدم  \\\n",
       "count                                                1997          1998   \n",
       "unique                                               1958          1535   \n",
       "top     @flyadeal منطقه خلوها بقريه زمان\\n \\n #طيران_أ...  RiyadhSeason   \n",
       "freq                                                   11            30   \n",
       "\n",
       "                          الموقع     التاريخ  \n",
       "count                       1998        1998  \n",
       "unique                        12           8  \n",
       "top     المملكة العربية السعودية  2021-12-21  \n",
       "freq                        1666        1932  "
      ]
     },
     "execution_count": 6,
     "metadata": {},
     "output_type": "execute_result"
    }
   ],
   "source": [
    "df.describe()"
   ]
  },
  {
   "cell_type": "code",
   "execution_count": 7,
   "id": "981315a8",
   "metadata": {},
   "outputs": [
    {
     "name": "stdout",
     "output_type": "stream",
     "text": [
      "- The dataset containes 1998 rows with 4 columns.\n"
     ]
    }
   ],
   "source": [
    "#Checking DataFrame size\n",
    "print(f\"- The dataset containes {df.shape[0]} rows with {df.shape[1]} columns.\")"
   ]
  },
  {
   "cell_type": "markdown",
   "id": "b62b3de3",
   "metadata": {},
   "source": [
    "## Clean Data"
   ]
  },
  {
   "cell_type": "markdown",
   "id": "9ff5d219",
   "metadata": {},
   "source": [
    "- Drop duplicates.\n",
    "- Check null.\n",
    "- Remove Unnecessary columns.\n",
    "- convert the date type .\n",
    "\n"
   ]
  },
  {
   "cell_type": "code",
   "execution_count": 8,
   "id": "58bab8bd",
   "metadata": {},
   "outputs": [
    {
     "data": {
      "text/plain": [
       "التغريدة        1\n",
       "اسم_المستخدم    0\n",
       "الموقع          0\n",
       "التاريخ         0\n",
       "dtype: int64"
      ]
     },
     "execution_count": 8,
     "metadata": {},
     "output_type": "execute_result"
    }
   ],
   "source": [
    "#Checking null values \n",
    "df.isnull().sum()"
   ]
  },
  {
   "cell_type": "code",
   "execution_count": 9,
   "id": "489fed2c",
   "metadata": {},
   "outputs": [],
   "source": [
    "#Drop nulls values\n",
    "df.dropna(inplace= True)"
   ]
  },
  {
   "cell_type": "code",
   "execution_count": 10,
   "id": "df664a02",
   "metadata": {},
   "outputs": [
    {
     "data": {
      "text/plain": [
       "Index(['التغريدة', 'اسم_المستخدم', 'الموقع', 'التاريخ'], dtype='object')"
      ]
     },
     "execution_count": 10,
     "metadata": {},
     "output_type": "execute_result"
    }
   ],
   "source": [
    "# Remove spaces at columns names\n",
    "df.columns = df.columns.str.strip()\n",
    "df.columns"
   ]
  },
  {
   "cell_type": "code",
   "execution_count": 11,
   "id": "0562cc2f",
   "metadata": {},
   "outputs": [],
   "source": [
    "def remove_underscore(text):\n",
    "     return ' '.join(text.split('_'))"
   ]
  },
  {
   "cell_type": "code",
   "execution_count": 12,
   "id": "871126a8",
   "metadata": {},
   "outputs": [
    {
     "data": {
      "text/html": [
       "<div>\n",
       "<style scoped>\n",
       "    .dataframe tbody tr th:only-of-type {\n",
       "        vertical-align: middle;\n",
       "    }\n",
       "\n",
       "    .dataframe tbody tr th {\n",
       "        vertical-align: top;\n",
       "    }\n",
       "\n",
       "    .dataframe thead th {\n",
       "        text-align: right;\n",
       "    }\n",
       "</style>\n",
       "<table border=\"1\" class=\"dataframe\">\n",
       "  <thead>\n",
       "    <tr style=\"text-align: right;\">\n",
       "      <th></th>\n",
       "      <th>التغريدة</th>\n",
       "      <th>اسم_المستخدم</th>\n",
       "      <th>الموقع</th>\n",
       "      <th>التاريخ</th>\n",
       "    </tr>\n",
       "  </thead>\n",
       "  <tbody>\n",
       "    <tr>\n",
       "      <th>0</th>\n",
       "      <td>جميل جدا  و بالأخص البلوليفارد  موسم الرياض</td>\n",
       "      <td>Alazme16</td>\n",
       "      <td>المملكة العربية السعودية</td>\n",
       "      <td>12/6/2021</td>\n",
       "    </tr>\n",
       "    <tr>\n",
       "      <th>1</th>\n",
       "      <td>موسم جبار ورهيب موسم الرياض</td>\n",
       "      <td>ashaq7</td>\n",
       "      <td>البحرين</td>\n",
       "      <td>2021-12-21</td>\n",
       "    </tr>\n",
       "    <tr>\n",
       "      <th>2</th>\n",
       "      <td>@GEA SA @RiyadhSeason A موسم الرياض    والله ...</td>\n",
       "      <td>ashaq7</td>\n",
       "      <td>البحرين</td>\n",
       "      <td>2021-12-21</td>\n",
       "    </tr>\n",
       "    <tr>\n",
       "      <th>3</th>\n",
       "      <td>ليست مثاليا ولكني اطمح ان اعيش في مجتمع مثالي ...</td>\n",
       "      <td>bba10101010</td>\n",
       "      <td>المملكة العربية السعودية</td>\n",
       "      <td>12/6/2021</td>\n",
       "    </tr>\n",
       "    <tr>\n",
       "      <th>4</th>\n",
       "      <td>موسم رائع كبيره يالسعودية من كثر الفعاليات تحت...</td>\n",
       "      <td>fofo94001</td>\n",
       "      <td>المملكة العربية السعودية</td>\n",
       "      <td>2021-12-21</td>\n",
       "    </tr>\n",
       "    <tr>\n",
       "      <th>...</th>\n",
       "      <td>...</td>\n",
       "      <td>...</td>\n",
       "      <td>...</td>\n",
       "      <td>...</td>\n",
       "    </tr>\n",
       "    <tr>\n",
       "      <th>1993</th>\n",
       "      <td>#موسم الرياض سعادة غامره وشعور جميل لايوصف لما...</td>\n",
       "      <td>AboAzza06770529</td>\n",
       "      <td>المملكة العربية السعودية</td>\n",
       "      <td>12/6/2021</td>\n",
       "    </tr>\n",
       "    <tr>\n",
       "      <th>1994</th>\n",
       "      <td>عادي وقفو موسم الرياض فوراً    ورجعو الاجراءا...</td>\n",
       "      <td>kf33333</td>\n",
       "      <td>المملكة العربية السعودية</td>\n",
       "      <td>12/18/2021</td>\n",
       "    </tr>\n",
       "    <tr>\n",
       "      <th>1995</th>\n",
       "      <td>#موسم الرياض من يلوم القلب في حب الرياض</td>\n",
       "      <td>moha_abdulallah</td>\n",
       "      <td>المملكة العربية السعودية</td>\n",
       "      <td>12/18/2021</td>\n",
       "    </tr>\n",
       "    <tr>\n",
       "      <th>1996</th>\n",
       "      <td>#موسم الرياض وش هالجمال البوليفارد جنة في ارض ...</td>\n",
       "      <td>uio__60</td>\n",
       "      <td>المملكة المتحدة</td>\n",
       "      <td>12/18/2021</td>\n",
       "    </tr>\n",
       "    <tr>\n",
       "      <th>1997</th>\n",
       "      <td>موسم الرياض والله الأجواء خرافية جايكم من لندن...</td>\n",
       "      <td>zQ7sJnUIWXVCh5i</td>\n",
       "      <td>المملكة المتحدة</td>\n",
       "      <td>12/6/2021</td>\n",
       "    </tr>\n",
       "  </tbody>\n",
       "</table>\n",
       "<p>1997 rows × 4 columns</p>\n",
       "</div>"
      ],
      "text/plain": [
       "                                               التغريدة     اسم_المستخدم  \\\n",
       "0           جميل جدا  و بالأخص البلوليفارد  موسم الرياض         Alazme16   \n",
       "1                           موسم جبار ورهيب موسم الرياض           ashaq7   \n",
       "2      @GEA SA @RiyadhSeason A موسم الرياض    والله ...           ashaq7   \n",
       "3     ليست مثاليا ولكني اطمح ان اعيش في مجتمع مثالي ...      bba10101010   \n",
       "4     موسم رائع كبيره يالسعودية من كثر الفعاليات تحت...        fofo94001   \n",
       "...                                                 ...              ...   \n",
       "1993  #موسم الرياض سعادة غامره وشعور جميل لايوصف لما...  AboAzza06770529   \n",
       "1994   عادي وقفو موسم الرياض فوراً    ورجعو الاجراءا...          kf33333   \n",
       "1995           #موسم الرياض من يلوم القلب في حب الرياض   moha_abdulallah   \n",
       "1996  #موسم الرياض وش هالجمال البوليفارد جنة في ارض ...          uio__60   \n",
       "1997  موسم الرياض والله الأجواء خرافية جايكم من لندن...  zQ7sJnUIWXVCh5i   \n",
       "\n",
       "                        الموقع     التاريخ  \n",
       "0     المملكة العربية السعودية   12/6/2021  \n",
       "1                      البحرين  2021-12-21  \n",
       "2                      البحرين  2021-12-21  \n",
       "3     المملكة العربية السعودية   12/6/2021  \n",
       "4     المملكة العربية السعودية  2021-12-21  \n",
       "...                        ...         ...  \n",
       "1993  المملكة العربية السعودية   12/6/2021  \n",
       "1994  المملكة العربية السعودية  12/18/2021  \n",
       "1995  المملكة العربية السعودية  12/18/2021  \n",
       "1996           المملكة المتحدة  12/18/2021  \n",
       "1997           المملكة المتحدة   12/6/2021  \n",
       "\n",
       "[1997 rows x 4 columns]"
      ]
     },
     "execution_count": 12,
     "metadata": {},
     "output_type": "execute_result"
    }
   ],
   "source": [
    "df['التغريدة'] = df['التغريدة'].apply(remove_underscore)\n",
    "df"
   ]
  },
  {
   "cell_type": "code",
   "execution_count": 13,
   "id": "4e1cc17b",
   "metadata": {},
   "outputs": [
    {
     "data": {
      "text/html": [
       "<div>\n",
       "<style scoped>\n",
       "    .dataframe tbody tr th:only-of-type {\n",
       "        vertical-align: middle;\n",
       "    }\n",
       "\n",
       "    .dataframe tbody tr th {\n",
       "        vertical-align: top;\n",
       "    }\n",
       "\n",
       "    .dataframe thead th {\n",
       "        text-align: right;\n",
       "    }\n",
       "</style>\n",
       "<table border=\"1\" class=\"dataframe\">\n",
       "  <thead>\n",
       "    <tr style=\"text-align: right;\">\n",
       "      <th></th>\n",
       "      <th>التغريدة</th>\n",
       "      <th>اسم_المستخدم</th>\n",
       "      <th>الموقع</th>\n",
       "      <th>التاريخ</th>\n",
       "    </tr>\n",
       "  </thead>\n",
       "  <tbody>\n",
       "    <tr>\n",
       "      <th>0</th>\n",
       "      <td>جميل جدا  و بالأخص البلوليفارد  موسم الرياض</td>\n",
       "      <td>Alazme16</td>\n",
       "      <td>المملكة العربية السعودية</td>\n",
       "      <td>12/6/2021</td>\n",
       "    </tr>\n",
       "    <tr>\n",
       "      <th>1</th>\n",
       "      <td>موسم جبار ورهيب موسم الرياض</td>\n",
       "      <td>ashaq7</td>\n",
       "      <td>البحرين</td>\n",
       "      <td>2021-12-21</td>\n",
       "    </tr>\n",
       "    <tr>\n",
       "      <th>2</th>\n",
       "      <td>@GEA SA @RiyadhSeason A موسم الرياض    والله  كانك في نييورك ستتي عمل جبار ومتعوب عليه</td>\n",
       "      <td>ashaq7</td>\n",
       "      <td>البحرين</td>\n",
       "      <td>2021-12-21</td>\n",
       "    </tr>\n",
       "    <tr>\n",
       "      <th>3</th>\n",
       "      <td>ليست مثاليا ولكني اطمح ان اعيش في مجتمع مثالي الحقيقة  موسم الرياض</td>\n",
       "      <td>bba10101010</td>\n",
       "      <td>المملكة العربية السعودية</td>\n",
       "      <td>12/6/2021</td>\n",
       "    </tr>\n",
       "    <tr>\n",
       "      <th>4</th>\n",
       "      <td>موسم رائع كبيره يالسعودية من كثر الفعاليات تحتار وين تروح!!!!!!!  موسم الرياض</td>\n",
       "      <td>fofo94001</td>\n",
       "      <td>المملكة العربية السعودية</td>\n",
       "      <td>2021-12-21</td>\n",
       "    </tr>\n",
       "    <tr>\n",
       "      <th>...</th>\n",
       "      <td>...</td>\n",
       "      <td>...</td>\n",
       "      <td>...</td>\n",
       "      <td>...</td>\n",
       "    </tr>\n",
       "    <tr>\n",
       "      <th>1993</th>\n",
       "      <td>#موسم الرياض سعادة غامره وشعور جميل لايوصف لما بنتي الخوافة عازمتني للبوليفارد محفول مكفول</td>\n",
       "      <td>AboAzza06770529</td>\n",
       "      <td>المملكة العربية السعودية</td>\n",
       "      <td>12/6/2021</td>\n",
       "    </tr>\n",
       "    <tr>\n",
       "      <th>1994</th>\n",
       "      <td>عادي وقفو موسم الرياض فوراً    ورجعو الاجراءات   مو ننتظر لما توصل فوق الالف حاله</td>\n",
       "      <td>kf33333</td>\n",
       "      <td>المملكة العربية السعودية</td>\n",
       "      <td>12/18/2021</td>\n",
       "    </tr>\n",
       "    <tr>\n",
       "      <th>1995</th>\n",
       "      <td>#موسم الرياض من يلوم القلب في حب الرياض</td>\n",
       "      <td>moha_abdulallah</td>\n",
       "      <td>المملكة العربية السعودية</td>\n",
       "      <td>12/18/2021</td>\n",
       "    </tr>\n",
       "    <tr>\n",
       "      <th>1996</th>\n",
       "      <td>#موسم الرياض وش هالجمال البوليفارد جنة في ارض الرياض</td>\n",
       "      <td>uio__60</td>\n",
       "      <td>المملكة المتحدة</td>\n",
       "      <td>12/18/2021</td>\n",
       "    </tr>\n",
       "    <tr>\n",
       "      <th>1997</th>\n",
       "      <td>موسم الرياض والله الأجواء خرافية جايكم من لندن الين عندكم 😂</td>\n",
       "      <td>zQ7sJnUIWXVCh5i</td>\n",
       "      <td>المملكة المتحدة</td>\n",
       "      <td>12/6/2021</td>\n",
       "    </tr>\n",
       "  </tbody>\n",
       "</table>\n",
       "<p>1997 rows × 4 columns</p>\n",
       "</div>"
      ],
      "text/plain": [
       "                                                                                         التغريدة  \\\n",
       "0     جميل جدا  و بالأخص البلوليفارد  موسم الرياض                                                   \n",
       "1     موسم جبار ورهيب موسم الرياض                                                                   \n",
       "2      @GEA SA @RiyadhSeason A موسم الرياض    والله  كانك في نييورك ستتي عمل جبار ومتعوب عليه       \n",
       "3     ليست مثاليا ولكني اطمح ان اعيش في مجتمع مثالي الحقيقة  موسم الرياض                            \n",
       "4     موسم رائع كبيره يالسعودية من كثر الفعاليات تحتار وين تروح!!!!!!!  موسم الرياض                 \n",
       "...                                                                              ...                \n",
       "1993  #موسم الرياض سعادة غامره وشعور جميل لايوصف لما بنتي الخوافة عازمتني للبوليفارد محفول مكفول    \n",
       "1994   عادي وقفو موسم الرياض فوراً    ورجعو الاجراءات   مو ننتظر لما توصل فوق الالف حاله            \n",
       "1995  #موسم الرياض من يلوم القلب في حب الرياض                                                       \n",
       "1996  #موسم الرياض وش هالجمال البوليفارد جنة في ارض الرياض                                          \n",
       "1997  موسم الرياض والله الأجواء خرافية جايكم من لندن الين عندكم 😂                                   \n",
       "\n",
       "         اسم_المستخدم                    الموقع     التاريخ  \n",
       "0     Alazme16         المملكة العربية السعودية  12/6/2021   \n",
       "1     ashaq7           البحرين                   2021-12-21  \n",
       "2     ashaq7           البحرين                   2021-12-21  \n",
       "3     bba10101010      المملكة العربية السعودية  12/6/2021   \n",
       "4     fofo94001        المملكة العربية السعودية  2021-12-21  \n",
       "...         ...                             ...         ...  \n",
       "1993  AboAzza06770529  المملكة العربية السعودية  12/6/2021   \n",
       "1994  kf33333          المملكة العربية السعودية  12/18/2021  \n",
       "1995  moha_abdulallah  المملكة العربية السعودية  12/18/2021  \n",
       "1996  uio__60          المملكة المتحدة           12/18/2021  \n",
       "1997  zQ7sJnUIWXVCh5i  المملكة المتحدة           12/6/2021   \n",
       "\n",
       "[1997 rows x 4 columns]"
      ]
     },
     "execution_count": 13,
     "metadata": {},
     "output_type": "execute_result"
    }
   ],
   "source": [
    "pd.set_option('display.max_colwidth', -1)\n",
    "df\n",
    "# To display full text"
   ]
  },
  {
   "cell_type": "code",
   "execution_count": 14,
   "id": "caf7fb84",
   "metadata": {},
   "outputs": [
    {
     "data": {
      "text/plain": [
       "Index(['التغريدة', 'اسم_المستخدم', 'الموقع', 'التاريخ'], dtype='object')"
      ]
     },
     "execution_count": 14,
     "metadata": {},
     "output_type": "execute_result"
    }
   ],
   "source": [
    "# Remove spaces at columns names\n",
    "df.columns = df.columns.str.strip()\n",
    "df.columns"
   ]
  },
  {
   "cell_type": "code",
   "execution_count": 15,
   "id": "e79bd47d",
   "metadata": {},
   "outputs": [
    {
     "data": {
      "text/plain": [
       "@flyadeal منطقه خلوها بقريه زمان\\n \\n #طيران أديل و #موسم الرياض                                                                                 0.005508\n",
       "@flyadeal خلوها\\n\\nمنطقة خلوها\\n\\n#طيران اديل \\n#موسم الرياض                                                                                     0.003505\n",
       "@flyadeal منطقة خلوها\\n\\n #طيران أديل \\n\\n#موسم الرياض \\n.\\n.                                                                                    0.002504\n",
       "@SaudiNews50 موسم الرياض                                                                                                                         0.001502\n",
       "@RiyadhSeason توفرت تذاكر حفلة الهضبة عمرو دياب حياكم                                                                                            0.001502\n",
       "                                                                                                                                                   ...   \n",
       "@News Ejazah وقفوا موسم الرياض على شان يروح كورونا امنعوا الاختلاط وضع كمامات حرام لازم نحافظ على مملكتنا من هذا المرض 😭🥺🥺                       0.000501\n",
       "ارفعوا التاق للترند مرة أخرى\\n\\n#ايقاف موسم الرياض مطلب                                                                                          0.000501\n",
       "طلعوا الترند مرة ثانية، لايوقفف \\n#ايقاف موسم الرياض مطلب                                                                                        0.000501\n",
       "@hesham ahmef @cnnarabic @RiyadhSeason عظم الله اجرك عزيزي القبطي مع تمنياتي لك بالمزيد من الحزن                                                 0.000501\n",
       "عندما أقرأ #موسم الرياض مباشره أقول لاحول ولا قوة الا بالله يارب لاتعاقبنا بمافعل السفهاء منا وردنا إليك رداً جميلاً.\\nلان ورانا #موسم الحساب    0.000501\n",
       "Name: التغريدة, Length: 1958, dtype: float64"
      ]
     },
     "execution_count": 15,
     "metadata": {},
     "output_type": "execute_result"
    }
   ],
   "source": [
    "df.التغريدة.value_counts(normalize=True)"
   ]
  },
  {
   "cell_type": "code",
   "execution_count": 16,
   "id": "914872ff",
   "metadata": {},
   "outputs": [],
   "source": [
    "import regex as re\n",
    "import string\n"
   ]
  },
  {
   "cell_type": "code",
   "execution_count": 17,
   "id": "1b056bbf",
   "metadata": {},
   "outputs": [],
   "source": [
    "##textalpha=tweets.split()\n",
    "##textalpha"
   ]
  },
  {
   "cell_type": "code",
   "execution_count": 18,
   "id": "61fae265",
   "metadata": {},
   "outputs": [],
   "source": [
    "##!pip install spacy"
   ]
  },
  {
   "cell_type": "code",
   "execution_count": 19,
   "id": "949e7836",
   "metadata": {},
   "outputs": [
    {
     "data": {
      "text/html": [
       "<div>\n",
       "<style scoped>\n",
       "    .dataframe tbody tr th:only-of-type {\n",
       "        vertical-align: middle;\n",
       "    }\n",
       "\n",
       "    .dataframe tbody tr th {\n",
       "        vertical-align: top;\n",
       "    }\n",
       "\n",
       "    .dataframe thead th {\n",
       "        text-align: right;\n",
       "    }\n",
       "</style>\n",
       "<table border=\"1\" class=\"dataframe\">\n",
       "  <thead>\n",
       "    <tr style=\"text-align: right;\">\n",
       "      <th></th>\n",
       "      <th>التغريدة</th>\n",
       "      <th>اسم_المستخدم</th>\n",
       "      <th>الموقع</th>\n",
       "      <th>التاريخ</th>\n",
       "    </tr>\n",
       "  </thead>\n",
       "  <tbody>\n",
       "    <tr>\n",
       "      <th>0</th>\n",
       "      <td>جميل جدا  و بالأخص البلوليفارد  موسم الرياض</td>\n",
       "      <td>Alazme16</td>\n",
       "      <td>المملكة العربية السعودية</td>\n",
       "      <td>12/6/2021</td>\n",
       "    </tr>\n",
       "    <tr>\n",
       "      <th>1</th>\n",
       "      <td>موسم جبار ورهيب موسم الرياض</td>\n",
       "      <td>ashaq7</td>\n",
       "      <td>البحرين</td>\n",
       "      <td>2021-12-21</td>\n",
       "    </tr>\n",
       "    <tr>\n",
       "      <th>2</th>\n",
       "      <td>موسم الرياض    والله  كانك في نييورك ستتي عمل جبار ومتعوب عليه</td>\n",
       "      <td>ashaq7</td>\n",
       "      <td>البحرين</td>\n",
       "      <td>2021-12-21</td>\n",
       "    </tr>\n",
       "    <tr>\n",
       "      <th>3</th>\n",
       "      <td>ليست مثاليا ولكني اطمح ان اعيش في مجتمع مثالي الحقيقة  موسم الرياض</td>\n",
       "      <td>bba10101010</td>\n",
       "      <td>المملكة العربية السعودية</td>\n",
       "      <td>12/6/2021</td>\n",
       "    </tr>\n",
       "    <tr>\n",
       "      <th>4</th>\n",
       "      <td>موسم رائع كبيره يالسعودية من كثر الفعاليات تحتار وين تروح  موسم الرياض</td>\n",
       "      <td>fofo94001</td>\n",
       "      <td>المملكة العربية السعودية</td>\n",
       "      <td>2021-12-21</td>\n",
       "    </tr>\n",
       "    <tr>\n",
       "      <th>...</th>\n",
       "      <td>...</td>\n",
       "      <td>...</td>\n",
       "      <td>...</td>\n",
       "      <td>...</td>\n",
       "    </tr>\n",
       "    <tr>\n",
       "      <th>1993</th>\n",
       "      <td>موسم الرياض سعادة غامره وشعور جميل لايوصف لما بنتي الخوافة عازمتني للبوليفارد محفول مكفول</td>\n",
       "      <td>AboAzza06770529</td>\n",
       "      <td>المملكة العربية السعودية</td>\n",
       "      <td>12/6/2021</td>\n",
       "    </tr>\n",
       "    <tr>\n",
       "      <th>1994</th>\n",
       "      <td>عادي وقفو موسم الرياض فوراً    ورجعو الاجراءات   مو ننتظر لما توصل فوق الالف حاله</td>\n",
       "      <td>kf33333</td>\n",
       "      <td>المملكة العربية السعودية</td>\n",
       "      <td>12/18/2021</td>\n",
       "    </tr>\n",
       "    <tr>\n",
       "      <th>1995</th>\n",
       "      <td>موسم الرياض من يلوم القلب في حب الرياض</td>\n",
       "      <td>moha_abdulallah</td>\n",
       "      <td>المملكة العربية السعودية</td>\n",
       "      <td>12/18/2021</td>\n",
       "    </tr>\n",
       "    <tr>\n",
       "      <th>1996</th>\n",
       "      <td>موسم الرياض وش هالجمال البوليفارد جنة في ارض الرياض</td>\n",
       "      <td>uio__60</td>\n",
       "      <td>المملكة المتحدة</td>\n",
       "      <td>12/18/2021</td>\n",
       "    </tr>\n",
       "    <tr>\n",
       "      <th>1997</th>\n",
       "      <td>موسم الرياض والله الأجواء خرافية جايكم من لندن الين عندكم 😂</td>\n",
       "      <td>zQ7sJnUIWXVCh5i</td>\n",
       "      <td>المملكة المتحدة</td>\n",
       "      <td>12/6/2021</td>\n",
       "    </tr>\n",
       "  </tbody>\n",
       "</table>\n",
       "<p>1997 rows × 4 columns</p>\n",
       "</div>"
      ],
      "text/plain": [
       "                                                                                        التغريدة  \\\n",
       "0     جميل جدا  و بالأخص البلوليفارد  موسم الرياض                                                  \n",
       "1     موسم جبار ورهيب موسم الرياض                                                                  \n",
       "2          موسم الرياض    والله  كانك في نييورك ستتي عمل جبار ومتعوب عليه                          \n",
       "3     ليست مثاليا ولكني اطمح ان اعيش في مجتمع مثالي الحقيقة  موسم الرياض                           \n",
       "4     موسم رائع كبيره يالسعودية من كثر الفعاليات تحتار وين تروح  موسم الرياض                       \n",
       "...                                                                       ...                      \n",
       "1993  موسم الرياض سعادة غامره وشعور جميل لايوصف لما بنتي الخوافة عازمتني للبوليفارد محفول مكفول    \n",
       "1994   عادي وقفو موسم الرياض فوراً    ورجعو الاجراءات   مو ننتظر لما توصل فوق الالف حاله           \n",
       "1995  موسم الرياض من يلوم القلب في حب الرياض                                                       \n",
       "1996  موسم الرياض وش هالجمال البوليفارد جنة في ارض الرياض                                          \n",
       "1997  موسم الرياض والله الأجواء خرافية جايكم من لندن الين عندكم 😂                                  \n",
       "\n",
       "         اسم_المستخدم                    الموقع     التاريخ  \n",
       "0     Alazme16         المملكة العربية السعودية  12/6/2021   \n",
       "1     ashaq7           البحرين                   2021-12-21  \n",
       "2     ashaq7           البحرين                   2021-12-21  \n",
       "3     bba10101010      المملكة العربية السعودية  12/6/2021   \n",
       "4     fofo94001        المملكة العربية السعودية  2021-12-21  \n",
       "...         ...                             ...         ...  \n",
       "1993  AboAzza06770529  المملكة العربية السعودية  12/6/2021   \n",
       "1994  kf33333          المملكة العربية السعودية  12/18/2021  \n",
       "1995  moha_abdulallah  المملكة العربية السعودية  12/18/2021  \n",
       "1996  uio__60          المملكة المتحدة           12/18/2021  \n",
       "1997  zQ7sJnUIWXVCh5i  المملكة المتحدة           12/6/2021   \n",
       "\n",
       "[1997 rows x 4 columns]"
      ]
     },
     "execution_count": 19,
     "metadata": {},
     "output_type": "execute_result"
    }
   ],
   "source": [
    "# remove english numbers\n",
    "df.التغريدة = df.التغريدة.apply(lambda x: re.sub(r'[0-9]+', '', x))\n",
    "\n",
    "# remove english letters\n",
    "df.التغريدة = df.التغريدة.apply(lambda x: re.sub(r'[a-zA-Z]', '', x))\n",
    "\n",
    "# remove a special character _\n",
    "df.التغريدة = df.التغريدة.apply(lambda x: re.sub(r'[_]+', '', x))\n",
    "\n",
    "# remove punctuations\n",
    "arabic_punctuations = '''`÷×؛<>_()*&^%][ـ،/:\"؟.,'{}~¦+|!”…“–ـ'''\n",
    "english_punctuations = string.punctuation\n",
    "punctuations_list = arabic_punctuations + english_punctuations\n",
    "df.التغريدة = df.التغريدة.apply(lambda x: x.translate(str.maketrans(' ', ' ', punctuations_list)))\n",
    "\n",
    "\n",
    "# remove newline characters\n",
    "df.التغريدة = df.التغريدة.apply(lambda x: x.replace(\"\\n\", \"  \"))\n",
    "df"
   ]
  },
  {
   "cell_type": "code",
   "execution_count": 20,
   "id": "effecf9f",
   "metadata": {},
   "outputs": [
    {
     "data": {
      "text/plain": [
       "المملكة العربية السعودية    1665\n",
       "البحرين                     55  \n",
       "تركيا                       46  \n",
       "الكويت                      43  \n",
       "الامارات                    33  \n",
       "لبنان                       32  \n",
       "مصر                         29  \n",
       "قطر                         27  \n",
       "الولايات المتحدة            25  \n",
       "اليمن                       23  \n",
       "المملكة المتحدة             18  \n",
       "السعودية                    1   \n",
       "Name: الموقع, dtype: int64"
      ]
     },
     "execution_count": 20,
     "metadata": {},
     "output_type": "execute_result"
    }
   ],
   "source": [
    "df['الموقع'].value_counts()"
   ]
  },
  {
   "cell_type": "code",
   "execution_count": 21,
   "id": "3f3b6f1d",
   "metadata": {},
   "outputs": [],
   "source": [
    "df['الموقع'] = df['الموقع'].replace(['السعودية '],'المملكة العربية السعودية')\n"
   ]
  },
  {
   "cell_type": "code",
   "execution_count": 22,
   "id": "8bbf4262",
   "metadata": {},
   "outputs": [
    {
     "data": {
      "text/plain": [
       "array(['المملكة العربية السعودية', 'البحرين', 'الكويت', 'اليمن', 'مصر',\n",
       "       'تركيا', 'المملكة المتحدة', 'الامارات', 'لبنان',\n",
       "       'الولايات المتحدة ', 'قطر'], dtype=object)"
      ]
     },
     "execution_count": 22,
     "metadata": {},
     "output_type": "execute_result"
    }
   ],
   "source": [
    "df['الموقع'].unique()"
   ]
  },
  {
   "cell_type": "code",
   "execution_count": 23,
   "id": "c03fa07a",
   "metadata": {},
   "outputs": [],
   "source": [
    "#nltk.download()\n",
    "# import these modules\n",
    "##from nltk.corpus import wordnet\n",
    "\n",
    "##from nltk.stem import WordNetLemmatizer\n",
    "\n",
    "##lemmatizer = WordNetLemmatizer()\n",
    "\n",
    "##print(\"موسم الرياض\", lemmatizer.lemmatize(\"موسمالرياض \"))\n",
    "##print(\"ميدلبيست \", lemmatizer.lemmatize(\"ميدل بيست\"))\n",
    "\n",
    "# a denotes adjective in \"pos\"\n",
    "##print(\"ايقافموسمالرياضمطلب\", lemmatizer.lemmatize(\"ايقاف موسم الرياض مطلب\", pos =\"a\"))\n"
   ]
  },
  {
   "cell_type": "code",
   "execution_count": 24,
   "id": "21996c2b",
   "metadata": {},
   "outputs": [
    {
     "data": {
      "text/plain": [
       "موسم الرياض مديل بيست                                                                      0.013020\n",
       "ايقاف موسم الرياض مطلب                                                                     0.012018\n",
       "موسم الرياض                                                                                0.007011\n",
       " منطقه خلوها بقريه زمان      طيران أديل و موسم الرياض                                      0.005508\n",
       "  منطقة خلوها      طيران أديل     موسم الرياض ￼                                            0.004507\n",
       "                                                                                             ...   \n",
       "اربع تذاكر عمرو دياب فئة             عمرو دياب                              موسم الرياض    0.000501\n",
       "  اذا انت صادق اعرضها بذا الموقع    عشان نقدر نشتريها منك بثقه                             0.000501\n",
       " الله يهديهم  ياليتهم يلغو موسم الرياض                                                     0.000501\n",
       " ايش القصة مو قادرة احجز                                                                   0.000501\n",
       "هذا هو التطور الي راح تبهرون العالم فيه     ايقاف موسم الرياض مطلب                         0.000501\n",
       "Name: التغريدة, Length: 1852, dtype: float64"
      ]
     },
     "execution_count": 24,
     "metadata": {},
     "output_type": "execute_result"
    }
   ],
   "source": [
    "df.التغريدة.value_counts(normalize=True)"
   ]
  },
  {
   "cell_type": "code",
   "execution_count": 25,
   "id": "c723a2b3",
   "metadata": {},
   "outputs": [],
   "source": [
    "##df.drop(['اسم_المستخدم'], axis=1, inplace=True)"
   ]
  },
  {
   "cell_type": "code",
   "execution_count": 26,
   "id": "d7b385db",
   "metadata": {},
   "outputs": [],
   "source": [
    "##!pip install hunspell\n",
    "##!pip install aspell-python-py3"
   ]
  },
  {
   "cell_type": "code",
   "execution_count": 27,
   "id": "29b4b593",
   "metadata": {},
   "outputs": [],
   "source": [
    "##!pip install spellchecker"
   ]
  },
  {
   "cell_type": "code",
   "execution_count": 28,
   "id": "01807fa7",
   "metadata": {},
   "outputs": [],
   "source": [
    "from nltk.corpus import stopwords\n"
   ]
  },
  {
   "cell_type": "code",
   "execution_count": 29,
   "id": "7613bdd8",
   "metadata": {},
   "outputs": [
    {
     "name": "stderr",
     "output_type": "stream",
     "text": [
      "[nltk_data] Downloading package stopwords to\n",
      "[nltk_data]     C:\\Users\\bl202\\AppData\\Roaming\\nltk_data...\n",
      "[nltk_data]   Package stopwords is already up-to-date!\n"
     ]
    }
   ],
   "source": [
    "import nltk\n",
    "\n",
    "nltk.download('stopwords')\n",
    "# first we define a list of arabic and english punctuations that we want to get rid of in our text\n",
    "\n",
    "punctuations = '''`÷×؛<>_()*&^%][ـ،/:\"؟.,'{}~¦+|!”…“–ـ''' + string.punctuation\n",
    "\n",
    "# Arabic stop words with nltk\n",
    "stop_words = stopwords.words()\n",
    "\n",
    "arabic_diacritics = re.compile(\"\"\"\n",
    "                             ّ    | # Shadda\n",
    "                             َ    | # Fatha\n",
    "                             ً    | # Tanwin Fath\n",
    "                             ُ    | # Damma\n",
    "                             ٌ    | # Tanwin Damm\n",
    "                             ِ    | # Kasra\n",
    "                             ٍ    | # Tanwin Kasr\n",
    "                             ْ    | # Sukun\n",
    "                             ـ     # Tatwil/Kashida\n",
    "                         \"\"\", re.VERBOSE)\n",
    "\n",
    "def preprocess(text):\n",
    "    \n",
    "    '''\n",
    "    text is an arabic string input\n",
    "    \n",
    "    the preprocessed text is returned\n",
    "    '''\n",
    "    \n",
    "    #remove punctuations\n",
    "    translator = str.maketrans('', '', punctuations)\n",
    "    text = text.translate(translator)\n",
    "    \n",
    "    # remove Tashkeel\n",
    "    text = re.sub(arabic_diacritics, ' ', text)\n",
    "    \n",
    "    #remove longation\n",
    "    text = re.sub(\"[إأآا]\", \"ا\", text)\n",
    "    text = re.sub(\"ى\", \"ي\", text)\n",
    "    text = re.sub(\"ؤ\", \"ء\", text)\n",
    "    text = re.sub(\"ئ\", \"ء\", text)\n",
    "    text = re.sub(\"ة\", \"ه\", text)\n",
    "    text = re.sub(\"گ\", \"ك\", text)\n",
    "\n",
    "\n",
    "    text = ' '.join(word for word in text.split() if word not in stop_words)\n",
    "\n",
    "    return text"
   ]
  },
  {
   "cell_type": "code",
   "execution_count": 30,
   "id": "4bd8099e",
   "metadata": {},
   "outputs": [],
   "source": [
    "df['التغريدة'] = df['التغريدة'].apply(preprocess)\n"
   ]
  },
  {
   "cell_type": "code",
   "execution_count": 31,
   "id": "fcf089a9",
   "metadata": {},
   "outputs": [],
   "source": [
    "df['التاريخ']=pd.to_datetime(df['التاريخ'])"
   ]
  },
  {
   "cell_type": "markdown",
   "id": "bda0c685",
   "metadata": {},
   "source": [
    "## remove_emojis\n"
   ]
  },
  {
   "cell_type": "code",
   "execution_count": 32,
   "id": "161fd430",
   "metadata": {},
   "outputs": [],
   "source": [
    "def remove_links(text):\n",
    "    # convert text to list\n",
    "    list_i = text.split() \n",
    "    \n",
    "    for x in list_i:\n",
    "        \n",
    "        # if any word start with https or @ then remove if from the list\n",
    "        if x.startswith('https') or x.startswith('@'):\n",
    "            list_i.remove(x)\n",
    "            \n",
    "    # join the list to be a text\n",
    "    new_text = ' '.join(list_i)\n",
    "    return new_text"
   ]
  },
  {
   "cell_type": "code",
   "execution_count": 33,
   "id": "0865800b",
   "metadata": {},
   "outputs": [],
   "source": [
    "def remove_emojis(text):\n",
    "    emoji_pattern = re.compile(\"[\"\n",
    "        u\"\\U0001F600-\\U0001F64F\"  # emoticons\n",
    "        u\"\\U0001F300-\\U0001F5FF\"  # symbols & pictographs\n",
    "        u\"\\U0001F680-\\U0001F6FF\"  # transport & map symbols\n",
    "        u\"\\U0001F1E0-\\U0001F1FF\"  # flags (iOS)\n",
    "        u\"\\U00002500-\\U00002BEF\"  # chinese char\n",
    "        u\"\\U00002702-\\U000027B0\"\n",
    "        u\"\\U00002702-\\U000027B0\"\n",
    "        u\"\\U000024C2-\\U0001F251\"\n",
    "        u\"\\U0001f926-\\U0001f937\"\n",
    "        u\"\\U00010000-\\U0010ffff\"\n",
    "        u\"\\u2640-\\u2642\" \n",
    "        u\"\\u2600-\\u2B55\"\n",
    "        u\"\\u200d\"\n",
    "        u\"\\u23cf\"\n",
    "        u\"\\u23e9\"\n",
    "        u\"\\u231a\"\n",
    "        u\"\\ufe0f\"  # dingbats\n",
    "        u\"\\u3030\"\n",
    "                           \"]+\", flags=re.UNICODE)\n",
    "    return emoji_pattern.sub(r'', text)"
   ]
  },
  {
   "cell_type": "code",
   "execution_count": null,
   "id": "8748141d",
   "metadata": {},
   "outputs": [],
   "source": []
  },
  {
   "cell_type": "code",
   "execution_count": 34,
   "id": "6e93ce84",
   "metadata": {},
   "outputs": [],
   "source": [
    "df['التغريدة']=df[\"التغريدة\"].apply(remove_emojis)\n"
   ]
  },
  {
   "cell_type": "code",
   "execution_count": 38,
   "id": "b0055497",
   "metadata": {},
   "outputs": [
    {
     "data": {
      "text/html": [
       "<div>\n",
       "<style scoped>\n",
       "    .dataframe tbody tr th:only-of-type {\n",
       "        vertical-align: middle;\n",
       "    }\n",
       "\n",
       "    .dataframe tbody tr th {\n",
       "        vertical-align: top;\n",
       "    }\n",
       "\n",
       "    .dataframe thead th {\n",
       "        text-align: right;\n",
       "    }\n",
       "</style>\n",
       "<table border=\"1\" class=\"dataframe\">\n",
       "  <thead>\n",
       "    <tr style=\"text-align: right;\">\n",
       "      <th></th>\n",
       "      <th>التغريدة</th>\n",
       "      <th>اسم_المستخدم</th>\n",
       "      <th>الموقع</th>\n",
       "      <th>التاريخ</th>\n",
       "    </tr>\n",
       "  </thead>\n",
       "  <tbody>\n",
       "    <tr>\n",
       "      <th>0</th>\n",
       "      <td>جميل جدا بالاخص البلوليفارد موسم الرياض</td>\n",
       "      <td>Alazme16</td>\n",
       "      <td>المملكة العربية السعودية</td>\n",
       "      <td>2021-12-06</td>\n",
       "    </tr>\n",
       "    <tr>\n",
       "      <th>1</th>\n",
       "      <td>موسم جبار ورهيب موسم الرياض</td>\n",
       "      <td>ashaq7</td>\n",
       "      <td>البحرين</td>\n",
       "      <td>2021-12-21</td>\n",
       "    </tr>\n",
       "    <tr>\n",
       "      <th>2</th>\n",
       "      <td>موسم الرياض والله كانك نييورك ستتي عمل جبار ومتعوب</td>\n",
       "      <td>ashaq7</td>\n",
       "      <td>البحرين</td>\n",
       "      <td>2021-12-21</td>\n",
       "    </tr>\n",
       "    <tr>\n",
       "      <th>3</th>\n",
       "      <td>مثاليا ولكني اطمح ان اعيش مجتمع مثالي الحقيقه موسم الرياض</td>\n",
       "      <td>bba10101010</td>\n",
       "      <td>المملكة العربية السعودية</td>\n",
       "      <td>2021-12-06</td>\n",
       "    </tr>\n",
       "    <tr>\n",
       "      <th>4</th>\n",
       "      <td>موسم راءع كبيره يالسعوديه كثر الفعاليات تحتار وين تروح موسم الرياض</td>\n",
       "      <td>fofo94001</td>\n",
       "      <td>المملكة العربية السعودية</td>\n",
       "      <td>2021-12-21</td>\n",
       "    </tr>\n",
       "    <tr>\n",
       "      <th>5</th>\n",
       "      <td>يارجل اتق الله وش هالالفاظ الشوارعيه الرجال يطقطق عليهم يقصد موسم الرياض</td>\n",
       "      <td>A_bassam10</td>\n",
       "      <td>المملكة العربية السعودية</td>\n",
       "      <td>2021-12-21</td>\n",
       "    </tr>\n",
       "    <tr>\n",
       "      <th>6</th>\n",
       "      <td>راءع جدا تنظيم راءع خيااال الاجازه بدال مااقضيها بري اوفر ميزانيتها علي اشياء تعجبني موسم الرياض</td>\n",
       "      <td>Fawzia52022621</td>\n",
       "      <td>المملكة العربية السعودية</td>\n",
       "      <td>2021-12-21</td>\n",
       "    </tr>\n",
       "    <tr>\n",
       "      <th>7</th>\n",
       "      <td>موسم الرياض مفروض عروض علي تذاكر الطيران وش يسوون الي جايين بري الرياض ويبغون يحضرون منطقه خلوها بقريه زمان طيران اديل موسم الرياض</td>\n",
       "      <td>MSindi30</td>\n",
       "      <td>المملكة العربية السعودية</td>\n",
       "      <td>2021-12-21</td>\n",
       "    </tr>\n",
       "    <tr>\n",
       "      <th>8</th>\n",
       "      <td>موسم سيء ومافيه تنظيم</td>\n",
       "      <td>AlAmhoojS</td>\n",
       "      <td>المملكة العربية السعودية</td>\n",
       "      <td>2021-12-21</td>\n",
       "    </tr>\n",
       "    <tr>\n",
       "      <th>9</th>\n",
       "      <td>يامعودين نطروني جاييينكم يااهل الرياض الكوييت جاااييين  موسم الرياض نشوف الجمال</td>\n",
       "      <td>iembx</td>\n",
       "      <td>الكويت</td>\n",
       "      <td>2021-12-06</td>\n",
       "    </tr>\n",
       "  </tbody>\n",
       "</table>\n",
       "</div>"
      ],
      "text/plain": [
       "                                                                                                                             التغريدة  \\\n",
       "0  جميل جدا بالاخص البلوليفارد موسم الرياض                                                                                              \n",
       "1  موسم جبار ورهيب موسم الرياض                                                                                                          \n",
       "2  موسم الرياض والله كانك نييورك ستتي عمل جبار ومتعوب                                                                                   \n",
       "3  مثاليا ولكني اطمح ان اعيش مجتمع مثالي الحقيقه موسم الرياض                                                                            \n",
       "4  موسم راءع كبيره يالسعوديه كثر الفعاليات تحتار وين تروح موسم الرياض                                                                   \n",
       "5  يارجل اتق الله وش هالالفاظ الشوارعيه الرجال يطقطق عليهم يقصد موسم الرياض                                                             \n",
       "6  راءع جدا تنظيم راءع خيااال الاجازه بدال مااقضيها بري اوفر ميزانيتها علي اشياء تعجبني موسم الرياض                                     \n",
       "7  موسم الرياض مفروض عروض علي تذاكر الطيران وش يسوون الي جايين بري الرياض ويبغون يحضرون منطقه خلوها بقريه زمان طيران اديل موسم الرياض   \n",
       "8  موسم سيء ومافيه تنظيم                                                                                                                \n",
       "9  يامعودين نطروني جاييينكم يااهل الرياض الكوييت جاااييين  موسم الرياض نشوف الجمال                                                      \n",
       "\n",
       "     اسم_المستخدم                    الموقع    التاريخ  \n",
       "0  Alazme16        المملكة العربية السعودية 2021-12-06  \n",
       "1  ashaq7          البحرين                  2021-12-21  \n",
       "2  ashaq7          البحرين                  2021-12-21  \n",
       "3  bba10101010     المملكة العربية السعودية 2021-12-06  \n",
       "4  fofo94001       المملكة العربية السعودية 2021-12-21  \n",
       "5  A_bassam10      المملكة العربية السعودية 2021-12-21  \n",
       "6  Fawzia52022621  المملكة العربية السعودية 2021-12-21  \n",
       "7  MSindi30        المملكة العربية السعودية 2021-12-21  \n",
       "8  AlAmhoojS       المملكة العربية السعودية 2021-12-21  \n",
       "9  iembx           الكويت                   2021-12-06  "
      ]
     },
     "execution_count": 38,
     "metadata": {},
     "output_type": "execute_result"
    }
   ],
   "source": [
    "df.head(10)"
   ]
  },
  {
   "cell_type": "code",
   "execution_count": 43,
   "id": "88afa0b8",
   "metadata": {
    "scrolled": true
   },
   "outputs": [
    {
     "data": {
      "text/html": [
       "<div>\n",
       "<style scoped>\n",
       "    .dataframe tbody tr th:only-of-type {\n",
       "        vertical-align: middle;\n",
       "    }\n",
       "\n",
       "    .dataframe tbody tr th {\n",
       "        vertical-align: top;\n",
       "    }\n",
       "\n",
       "    .dataframe thead th {\n",
       "        text-align: right;\n",
       "    }\n",
       "</style>\n",
       "<table border=\"1\" class=\"dataframe\">\n",
       "  <thead>\n",
       "    <tr style=\"text-align: right;\">\n",
       "      <th></th>\n",
       "      <th>التغريدة</th>\n",
       "      <th>اسم_المستخدم</th>\n",
       "      <th>الموقع</th>\n",
       "      <th>التاريخ</th>\n",
       "    </tr>\n",
       "  </thead>\n",
       "  <tbody>\n",
       "    <tr>\n",
       "      <th>1387</th>\n",
       "      <td>الدرعيه طيران اديل موسم الرياض</td>\n",
       "      <td>2060s6s</td>\n",
       "      <td>المملكة العربية السعودية</td>\n",
       "      <td>2021-12-21</td>\n",
       "    </tr>\n",
       "    <tr>\n",
       "      <th>1991</th>\n",
       "      <td>الدين حثنا علي الي قاعدين نشوفه ايقاف موسم الرياض مطلب</td>\n",
       "      <td>Keemo765753972</td>\n",
       "      <td>المملكة العربية السعودية</td>\n",
       "      <td>2021-12-06</td>\n",
       "    </tr>\n",
       "    <tr>\n",
       "      <th>712</th>\n",
       "      <td>ترا موسم الرياض موب معيار للتطور والتقدم الاجتماعي او الثقافي مدري ليش السعاوده يروجون لنفسهم بهالفعاليات اللي كلها تحرش وناس متعاطيه شيء يفشل ويسود الوجه وفوق كله يحسبونه انجاز وتقدم حضاري</td>\n",
       "      <td>QueenFatiya</td>\n",
       "      <td>المملكة العربية السعودية</td>\n",
       "      <td>2021-12-21</td>\n",
       "    </tr>\n",
       "    <tr>\n",
       "      <th>1669</th>\n",
       "      <td>موسم الرياض  الناس تقول خساير فلوس والمهرجانات غاليه المواقف لين المهرجانات الاف الريالات يتعوض الخساره اللي تبقي معنا ومعا اولادنا طول عمرناوراح تغير اخلاقهم وعقيدتهم ومبادءهم غرس الانحلال والتحرر الرسول صل الله وسلم يقول كلكم راع ومسءول رعيته</td>\n",
       "      <td>aboodyr5022</td>\n",
       "      <td>تركيا</td>\n",
       "      <td>2021-12-21</td>\n",
       "    </tr>\n",
       "    <tr>\n",
       "      <th>876</th>\n",
       "      <td>جعلها تخيس عندك حاسنا الا انتي واشكالك</td>\n",
       "      <td>Rashed88l</td>\n",
       "      <td>البحرين</td>\n",
       "      <td>2021-12-21</td>\n",
       "    </tr>\n",
       "    <tr>\n",
       "      <th>658</th>\n",
       "      <td>شوفوا انا احتمال مااروح فاذا مارحت حجزي وقوف ببيعها بنفس سعرها طبعا تذكره وحده</td>\n",
       "      <td>naaajwwwa</td>\n",
       "      <td>المملكة العربية السعودية</td>\n",
       "      <td>2021-12-21</td>\n",
       "    </tr>\n",
       "    <tr>\n",
       "      <th>1867</th>\n",
       "      <td>قال  ان الناس اذا رءوا المنكر فلم يغيروه اوشك ان يعمهم الله بعقابه موسم الرياض</td>\n",
       "      <td>sanaa19896</td>\n",
       "      <td>المملكة العربية السعودية</td>\n",
       "      <td>2021-12-21</td>\n",
       "    </tr>\n",
       "    <tr>\n",
       "      <th>945</th>\n",
       "      <td>موجود اقل فءه تذاكر عمرو دياب السعر ٤٠٠ الصامل خاص</td>\n",
       "      <td>pdw7l</td>\n",
       "      <td>المملكة العربية السعودية</td>\n",
       "      <td>2021-12-21</td>\n",
       "    </tr>\n",
       "    <tr>\n",
       "      <th>1372</th>\n",
       "      <td>اي والله لازم مقاطعه ايقاف موسم الرياض مطلب</td>\n",
       "      <td>DOMA_AI0</td>\n",
       "      <td>المملكة العربية السعودية</td>\n",
       "      <td>2021-12-21</td>\n",
       "    </tr>\n",
       "    <tr>\n",
       "      <th>87</th>\n",
       "      <td>ظاهره منحله ستختفي لدي البعض قطره الحياء وكم منحرفين سيختفون الانظار لديهم حياء وكم شخص سيهتدي للصواب لديه الحياء ايقاف موسم الرياض مطلب موسم الرياض</td>\n",
       "      <td>vip_____60</td>\n",
       "      <td>المملكة العربية السعودية</td>\n",
       "      <td>2021-12-21</td>\n",
       "    </tr>\n",
       "  </tbody>\n",
       "</table>\n",
       "</div>"
      ],
      "text/plain": [
       "                                                                                                                                                                                                                                                  التغريدة  \\\n",
       "1387  الدرعيه طيران اديل موسم الرياض                                                                                                                                                                                                                         \n",
       "1991  الدين حثنا علي الي قاعدين نشوفه ايقاف موسم الرياض مطلب                                                                                                                                                                                                 \n",
       "712   ترا موسم الرياض موب معيار للتطور والتقدم الاجتماعي او الثقافي مدري ليش السعاوده يروجون لنفسهم بهالفعاليات اللي كلها تحرش وناس متعاطيه شيء يفشل ويسود الوجه وفوق كله يحسبونه انجاز وتقدم حضاري                                                          \n",
       "1669  موسم الرياض  الناس تقول خساير فلوس والمهرجانات غاليه المواقف لين المهرجانات الاف الريالات يتعوض الخساره اللي تبقي معنا ومعا اولادنا طول عمرناوراح تغير اخلاقهم وعقيدتهم ومبادءهم غرس الانحلال والتحرر الرسول صل الله وسلم يقول كلكم راع ومسءول رعيته   \n",
       "876   جعلها تخيس عندك حاسنا الا انتي واشكالك                                                                                                                                                                                                                 \n",
       "658   شوفوا انا احتمال مااروح فاذا مارحت حجزي وقوف ببيعها بنفس سعرها طبعا تذكره وحده                                                                                                                                                                         \n",
       "1867  قال  ان الناس اذا رءوا المنكر فلم يغيروه اوشك ان يعمهم الله بعقابه موسم الرياض                                                                                                                                                                         \n",
       "945   موجود اقل فءه تذاكر عمرو دياب السعر ٤٠٠ الصامل خاص                                                                                                                                                                                                     \n",
       "1372  اي والله لازم مقاطعه ايقاف موسم الرياض مطلب                                                                                                                                                                                                            \n",
       "87    ظاهره منحله ستختفي لدي البعض قطره الحياء وكم منحرفين سيختفون الانظار لديهم حياء وكم شخص سيهتدي للصواب لديه الحياء ايقاف موسم الرياض مطلب موسم الرياض                                                                                                   \n",
       "\n",
       "        اسم_المستخدم                    الموقع    التاريخ  \n",
       "1387  2060s6s         المملكة العربية السعودية 2021-12-21  \n",
       "1991  Keemo765753972  المملكة العربية السعودية 2021-12-06  \n",
       "712   QueenFatiya     المملكة العربية السعودية 2021-12-21  \n",
       "1669  aboodyr5022     تركيا                    2021-12-21  \n",
       "876   Rashed88l       البحرين                  2021-12-21  \n",
       "658   naaajwwwa       المملكة العربية السعودية 2021-12-21  \n",
       "1867  sanaa19896      المملكة العربية السعودية 2021-12-21  \n",
       "945   pdw7l           المملكة العربية السعودية 2021-12-21  \n",
       "1372  DOMA_AI0        المملكة العربية السعودية 2021-12-21  \n",
       "87    vip_____60      المملكة العربية السعودية 2021-12-21  "
      ]
     },
     "execution_count": 43,
     "metadata": {},
     "output_type": "execute_result"
    }
   ],
   "source": [
    "df.sample(10)\n"
   ]
  },
  {
   "cell_type": "code",
   "execution_count": 41,
   "id": "6031cc92",
   "metadata": {},
   "outputs": [],
   "source": [
    "##save the dataframe to csv file\n",
    "df.to_csv('cleaned_tweets00.csv', index=False)"
   ]
  },
  {
   "cell_type": "code",
   "execution_count": 42,
   "id": "340426c7",
   "metadata": {},
   "outputs": [],
   "source": [
    "new_df = pd.read_csv('cleaned_tweets00.csv') # put the exact path here"
   ]
  },
  {
   "cell_type": "code",
   "execution_count": null,
   "id": "5aabbc59",
   "metadata": {},
   "outputs": [],
   "source": []
  },
  {
   "cell_type": "code",
   "execution_count": null,
   "id": "b2478279",
   "metadata": {},
   "outputs": [],
   "source": []
  }
 ],
 "metadata": {
  "kernelspec": {
   "display_name": "Python 3",
   "language": "python",
   "name": "python3"
  },
  "language_info": {
   "codemirror_mode": {
    "name": "ipython",
    "version": 3
   },
   "file_extension": ".py",
   "mimetype": "text/x-python",
   "name": "python",
   "nbconvert_exporter": "python",
   "pygments_lexer": "ipython3",
   "version": "3.8.8"
  }
 },
 "nbformat": 4,
 "nbformat_minor": 5
}
